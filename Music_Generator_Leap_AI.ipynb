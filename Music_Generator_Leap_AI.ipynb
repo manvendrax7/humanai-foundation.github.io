{
  "nbformat": 4,
  "nbformat_minor": 0,
  "metadata": {
    "colab": {
      "provenance": [],
      "include_colab_link": true
    },
    "kernelspec": {
      "name": "python3",
      "display_name": "Python 3"
    },
    "language_info": {
      "name": "python"
    },
    "widgets": {
      "application/vnd.jupyter.widget-state+json": {
        "841c21edca0744d4a44080fc68deb0e7": {
          "model_module": "@jupyter-widgets/controls",
          "model_name": "HBoxModel",
          "model_module_version": "1.5.0",
          "state": {
            "_dom_classes": [],
            "_model_module": "@jupyter-widgets/controls",
            "_model_module_version": "1.5.0",
            "_model_name": "HBoxModel",
            "_view_count": null,
            "_view_module": "@jupyter-widgets/controls",
            "_view_module_version": "1.5.0",
            "_view_name": "HBoxView",
            "box_style": "",
            "children": [
              "IPY_MODEL_886fde169abe4e4f912049bde98b1fad",
              "IPY_MODEL_3fd7c2014da44ec9aa107565545e409b",
              "IPY_MODEL_f4b9a818d65143598d60ae857b96cb7b"
            ],
            "layout": "IPY_MODEL_9e7caef3cb43461cbd7a9c116306470b"
          }
        },
        "886fde169abe4e4f912049bde98b1fad": {
          "model_module": "@jupyter-widgets/controls",
          "model_name": "HTMLModel",
          "model_module_version": "1.5.0",
          "state": {
            "_dom_classes": [],
            "_model_module": "@jupyter-widgets/controls",
            "_model_module_version": "1.5.0",
            "_model_name": "HTMLModel",
            "_view_count": null,
            "_view_module": "@jupyter-widgets/controls",
            "_view_module_version": "1.5.0",
            "_view_name": "HTMLView",
            "description": "",
            "description_tooltip": null,
            "layout": "IPY_MODEL_2b1956c5733f4b0faadf6f8f87088b55",
            "placeholder": "​",
            "style": "IPY_MODEL_76831359ea6d41ffa4369df3e303e214",
            "value": "Processing emails: 100%"
          }
        },
        "3fd7c2014da44ec9aa107565545e409b": {
          "model_module": "@jupyter-widgets/controls",
          "model_name": "FloatProgressModel",
          "model_module_version": "1.5.0",
          "state": {
            "_dom_classes": [],
            "_model_module": "@jupyter-widgets/controls",
            "_model_module_version": "1.5.0",
            "_model_name": "FloatProgressModel",
            "_view_count": null,
            "_view_module": "@jupyter-widgets/controls",
            "_view_module_version": "1.5.0",
            "_view_name": "ProgressView",
            "bar_style": "success",
            "description": "",
            "description_tooltip": null,
            "layout": "IPY_MODEL_167ec066f15f41329df8f9dd6d6527df",
            "max": 1,
            "min": 0,
            "orientation": "horizontal",
            "style": "IPY_MODEL_a1af8f0f327445008c55e413cef473ce",
            "value": 1
          }
        },
        "f4b9a818d65143598d60ae857b96cb7b": {
          "model_module": "@jupyter-widgets/controls",
          "model_name": "HTMLModel",
          "model_module_version": "1.5.0",
          "state": {
            "_dom_classes": [],
            "_model_module": "@jupyter-widgets/controls",
            "_model_module_version": "1.5.0",
            "_model_name": "HTMLModel",
            "_view_count": null,
            "_view_module": "@jupyter-widgets/controls",
            "_view_module_version": "1.5.0",
            "_view_name": "HTMLView",
            "description": "",
            "description_tooltip": null,
            "layout": "IPY_MODEL_ba7af26b5daf4a969c6808ca70f703e4",
            "placeholder": "​",
            "style": "IPY_MODEL_1229519985cc41bba23293425303b927",
            "value": " 1/1 [00:00&lt;00:00,  1.82it/s]"
          }
        },
        "9e7caef3cb43461cbd7a9c116306470b": {
          "model_module": "@jupyter-widgets/base",
          "model_name": "LayoutModel",
          "model_module_version": "1.2.0",
          "state": {
            "_model_module": "@jupyter-widgets/base",
            "_model_module_version": "1.2.0",
            "_model_name": "LayoutModel",
            "_view_count": null,
            "_view_module": "@jupyter-widgets/base",
            "_view_module_version": "1.2.0",
            "_view_name": "LayoutView",
            "align_content": null,
            "align_items": null,
            "align_self": null,
            "border": null,
            "bottom": null,
            "display": null,
            "flex": null,
            "flex_flow": null,
            "grid_area": null,
            "grid_auto_columns": null,
            "grid_auto_flow": null,
            "grid_auto_rows": null,
            "grid_column": null,
            "grid_gap": null,
            "grid_row": null,
            "grid_template_areas": null,
            "grid_template_columns": null,
            "grid_template_rows": null,
            "height": null,
            "justify_content": null,
            "justify_items": null,
            "left": null,
            "margin": null,
            "max_height": null,
            "max_width": null,
            "min_height": null,
            "min_width": null,
            "object_fit": null,
            "object_position": null,
            "order": null,
            "overflow": null,
            "overflow_x": null,
            "overflow_y": null,
            "padding": null,
            "right": null,
            "top": null,
            "visibility": null,
            "width": null
          }
        },
        "2b1956c5733f4b0faadf6f8f87088b55": {
          "model_module": "@jupyter-widgets/base",
          "model_name": "LayoutModel",
          "model_module_version": "1.2.0",
          "state": {
            "_model_module": "@jupyter-widgets/base",
            "_model_module_version": "1.2.0",
            "_model_name": "LayoutModel",
            "_view_count": null,
            "_view_module": "@jupyter-widgets/base",
            "_view_module_version": "1.2.0",
            "_view_name": "LayoutView",
            "align_content": null,
            "align_items": null,
            "align_self": null,
            "border": null,
            "bottom": null,
            "display": null,
            "flex": null,
            "flex_flow": null,
            "grid_area": null,
            "grid_auto_columns": null,
            "grid_auto_flow": null,
            "grid_auto_rows": null,
            "grid_column": null,
            "grid_gap": null,
            "grid_row": null,
            "grid_template_areas": null,
            "grid_template_columns": null,
            "grid_template_rows": null,
            "height": null,
            "justify_content": null,
            "justify_items": null,
            "left": null,
            "margin": null,
            "max_height": null,
            "max_width": null,
            "min_height": null,
            "min_width": null,
            "object_fit": null,
            "object_position": null,
            "order": null,
            "overflow": null,
            "overflow_x": null,
            "overflow_y": null,
            "padding": null,
            "right": null,
            "top": null,
            "visibility": null,
            "width": null
          }
        },
        "76831359ea6d41ffa4369df3e303e214": {
          "model_module": "@jupyter-widgets/controls",
          "model_name": "DescriptionStyleModel",
          "model_module_version": "1.5.0",
          "state": {
            "_model_module": "@jupyter-widgets/controls",
            "_model_module_version": "1.5.0",
            "_model_name": "DescriptionStyleModel",
            "_view_count": null,
            "_view_module": "@jupyter-widgets/base",
            "_view_module_version": "1.2.0",
            "_view_name": "StyleView",
            "description_width": ""
          }
        },
        "167ec066f15f41329df8f9dd6d6527df": {
          "model_module": "@jupyter-widgets/base",
          "model_name": "LayoutModel",
          "model_module_version": "1.2.0",
          "state": {
            "_model_module": "@jupyter-widgets/base",
            "_model_module_version": "1.2.0",
            "_model_name": "LayoutModel",
            "_view_count": null,
            "_view_module": "@jupyter-widgets/base",
            "_view_module_version": "1.2.0",
            "_view_name": "LayoutView",
            "align_content": null,
            "align_items": null,
            "align_self": null,
            "border": null,
            "bottom": null,
            "display": null,
            "flex": null,
            "flex_flow": null,
            "grid_area": null,
            "grid_auto_columns": null,
            "grid_auto_flow": null,
            "grid_auto_rows": null,
            "grid_column": null,
            "grid_gap": null,
            "grid_row": null,
            "grid_template_areas": null,
            "grid_template_columns": null,
            "grid_template_rows": null,
            "height": null,
            "justify_content": null,
            "justify_items": null,
            "left": null,
            "margin": null,
            "max_height": null,
            "max_width": null,
            "min_height": null,
            "min_width": null,
            "object_fit": null,
            "object_position": null,
            "order": null,
            "overflow": null,
            "overflow_x": null,
            "overflow_y": null,
            "padding": null,
            "right": null,
            "top": null,
            "visibility": null,
            "width": null
          }
        },
        "a1af8f0f327445008c55e413cef473ce": {
          "model_module": "@jupyter-widgets/controls",
          "model_name": "ProgressStyleModel",
          "model_module_version": "1.5.0",
          "state": {
            "_model_module": "@jupyter-widgets/controls",
            "_model_module_version": "1.5.0",
            "_model_name": "ProgressStyleModel",
            "_view_count": null,
            "_view_module": "@jupyter-widgets/base",
            "_view_module_version": "1.2.0",
            "_view_name": "StyleView",
            "bar_color": null,
            "description_width": ""
          }
        },
        "ba7af26b5daf4a969c6808ca70f703e4": {
          "model_module": "@jupyter-widgets/base",
          "model_name": "LayoutModel",
          "model_module_version": "1.2.0",
          "state": {
            "_model_module": "@jupyter-widgets/base",
            "_model_module_version": "1.2.0",
            "_model_name": "LayoutModel",
            "_view_count": null,
            "_view_module": "@jupyter-widgets/base",
            "_view_module_version": "1.2.0",
            "_view_name": "LayoutView",
            "align_content": null,
            "align_items": null,
            "align_self": null,
            "border": null,
            "bottom": null,
            "display": null,
            "flex": null,
            "flex_flow": null,
            "grid_area": null,
            "grid_auto_columns": null,
            "grid_auto_flow": null,
            "grid_auto_rows": null,
            "grid_column": null,
            "grid_gap": null,
            "grid_row": null,
            "grid_template_areas": null,
            "grid_template_columns": null,
            "grid_template_rows": null,
            "height": null,
            "justify_content": null,
            "justify_items": null,
            "left": null,
            "margin": null,
            "max_height": null,
            "max_width": null,
            "min_height": null,
            "min_width": null,
            "object_fit": null,
            "object_position": null,
            "order": null,
            "overflow": null,
            "overflow_x": null,
            "overflow_y": null,
            "padding": null,
            "right": null,
            "top": null,
            "visibility": null,
            "width": null
          }
        },
        "1229519985cc41bba23293425303b927": {
          "model_module": "@jupyter-widgets/controls",
          "model_name": "DescriptionStyleModel",
          "model_module_version": "1.5.0",
          "state": {
            "_model_module": "@jupyter-widgets/controls",
            "_model_module_version": "1.5.0",
            "_model_name": "DescriptionStyleModel",
            "_view_count": null,
            "_view_module": "@jupyter-widgets/base",
            "_view_module_version": "1.2.0",
            "_view_name": "StyleView",
            "description_width": ""
          }
        }
      }
    }
  },
  "cells": [
    {
      "cell_type": "markdown",
      "metadata": {
        "id": "view-in-github",
        "colab_type": "text"
      },
      "source": [
        "<a href=\"https://colab.research.google.com/github/manvendrax7/humanai-foundation.github.io/blob/master/Music_Generator_Leap_AI.ipynb\" target=\"_parent\"><img src=\"https://colab.research.google.com/assets/colab-badge.svg\" alt=\"Open In Colab\"/></a>"
      ]
    },
    {
      "cell_type": "code",
      "execution_count": 1,
      "metadata": {
        "id": "oh3n9k2M910E"
      },
      "outputs": [],
      "source": [
        "import requests\n",
        "import json\n",
        "import time\n",
        "\n",
        "# Get API key from Leap AI: https://docs.tryleap.ai/authentication\n",
        "API_KEY = \"ADD_YOUR_API_KEY\"\n",
        "\n",
        "# Get workflow_id by cloning and publishing this template: https://www.tryleap.ai/use-cases/generate-license-free-music-for-videos-podcasts-or-ads\n",
        "# Watch tutorial here: https://docs.tryleap.ai/#quickstart\n",
        "workflow_id = 'ADD_YOUR_WORKFLOW_ID'\n",
        "\n",
        "HEADERS = {\n",
        "    \"accept\": \"application/json\",\n",
        "    \"content-type\": \"application/json\",\n",
        "    \"X-Api-Key\": API_KEY\n",
        "}"
      ]
    },
    {
      "cell_type": "code",
      "source": [
        "def run_workflow(workflow_id, input_data):\n",
        "    url = f'https://api.workflows.tryleap.ai/v1/runs'\n",
        "\n",
        "    payload = {\n",
        "        'workflow_id': workflow_id,\n",
        "        'input': input_data,\n",
        "    }\n",
        "\n",
        "    response = requests.post(url, json=payload, headers=HEADERS)\n",
        "    data = response.json()\n",
        "\n",
        "    print(\"Running Workflow:\", data)\n",
        "    id, status = data.get('id'), data.get('status')\n",
        "\n",
        "    return id, status\n",
        "\n",
        "def get_workflow_run(workflow_run_id):\n",
        "    url = f'https://api.workflows.tryleap.ai/v1/runs/{workflow_run_id}'\n",
        "\n",
        "    response = requests.get(url, headers=HEADERS)\n",
        "    data = response.json()\n",
        "\n",
        "    status, output = data.get('status'), data.get('output') if 'output' in data else None\n",
        "\n",
        "    return status, output"
      ],
      "metadata": {
        "id": "seoBu0hK_ijD"
      },
      "execution_count": null,
      "outputs": []
    },
    {
      "cell_type": "code",
      "source": [
        "# Generate license-free music for videos, podcasts, or ads with AI\n",
        "input_data = {\n",
        "  'music_prompt': 'Mozart, classical, baroque, orchestral, requiem',\n",
        "  'duration_in_seconds': 15\n",
        "}\n",
        "\n",
        "run_id, status = run_workflow(workflow_id, input_data)\n",
        "\n",
        "if run_id:\n",
        "    status = ''\n",
        "    print(f'Workflow run ID: {run_id}. Polling for results...')\n",
        "\n",
        "    while status != 'completed':\n",
        "        time.sleep(5)\n",
        "        status, output = get_workflow_run(run_id)\n",
        "        print(f'Current workflow status: {status}')\n",
        "\n",
        "    music = output['generated_music']\n",
        "    print('Music:', music)\n",
        "\n",
        "else:\n",
        "    print('Failed to run workflow.')"
      ],
      "metadata": {
        "id": "_pXpe_iiCkqq",
        "colab": {
          "base_uri": "https://localhost:8080/",
          "height": 120,
          "referenced_widgets": [
            "841c21edca0744d4a44080fc68deb0e7",
            "886fde169abe4e4f912049bde98b1fad",
            "3fd7c2014da44ec9aa107565545e409b",
            "f4b9a818d65143598d60ae857b96cb7b",
            "9e7caef3cb43461cbd7a9c116306470b",
            "2b1956c5733f4b0faadf6f8f87088b55",
            "76831359ea6d41ffa4369df3e303e214",
            "167ec066f15f41329df8f9dd6d6527df",
            "a1af8f0f327445008c55e413cef473ce",
            "ba7af26b5daf4a969c6808ca70f703e4",
            "1229519985cc41bba23293425303b927"
          ]
        },
        "outputId": "5ffff383-c1a9-43e8-941a-07e9a66fac86"
      },
      "execution_count": null,
      "outputs": [
        {
          "output_type": "display_data",
          "data": {
            "text/plain": [
              "Processing emails:   0%|          | 0/1 [00:00<?, ?it/s]"
            ],
            "application/vnd.jupyter.widget-view+json": {
              "version_major": 2,
              "version_minor": 0,
              "model_id": "841c21edca0744d4a44080fc68deb0e7"
            }
          },
          "metadata": {}
        },
        {
          "output_type": "stream",
          "name": "stdout",
          "text": [
            "Running Workflow: {'message': 'Invalid API Key format', 'error': 'Unauthorized', 'statusCode': 401}\n",
            "Workflow run started for bill.gates@microsoft.com. ID: None. Initial Status: None\n",
            "Error: workflow run failed for bill.gates@microsoft.com\n",
            "All results saved to /content/workflow_results.csv\n"
          ]
        }
      ]
    }
  ]
}